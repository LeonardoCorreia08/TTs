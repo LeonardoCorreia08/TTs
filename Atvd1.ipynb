{
  "nbformat": 4,
  "nbformat_minor": 0,
  "metadata": {
    "colab": {
      "provenance": [],
      "authorship_tag": "ABX9TyNjv9OOY6fkzuSN6qLOGgpz",
      "include_colab_link": true
    },
    "kernelspec": {
      "name": "python3",
      "display_name": "Python 3"
    },
    "language_info": {
      "name": "python"
    }
  },
  "cells": [
    {
      "cell_type": "markdown",
      "metadata": {
        "id": "view-in-github",
        "colab_type": "text"
      },
      "source": [
        "<a href=\"https://colab.research.google.com/github/LeonardoCorreia08/TTs/blob/main/Atvd1.ipynb\" target=\"_parent\"><img src=\"https://colab.research.google.com/assets/colab-badge.svg\" alt=\"Open In Colab\"/></a>"
      ]
    },
    {
      "cell_type": "code",
      "source": [
        "# @title Célula Oculta\n",
        "!pip install gTTS"
      ],
      "metadata": {
        "colab": {
          "base_uri": "https://localhost:8080/"
        },
        "id": "0I1FKQhEGNB8",
        "outputId": "c9e87914-faa4-4fe9-8b80-ce466efe3363",
        "cellView": "form"
      },
      "execution_count": null,
      "outputs": [
        {
          "output_type": "stream",
          "name": "stdout",
          "text": [
            "Collecting gTTS\n",
            "  Downloading gTTS-2.3.2-py3-none-any.whl (28 kB)\n",
            "Requirement already satisfied: requests<3,>=2.27 in /usr/local/lib/python3.10/dist-packages (from gTTS) (2.27.1)\n",
            "Requirement already satisfied: click<8.2,>=7.1 in /usr/local/lib/python3.10/dist-packages (from gTTS) (8.1.4)\n",
            "Requirement already satisfied: urllib3<1.27,>=1.21.1 in /usr/local/lib/python3.10/dist-packages (from requests<3,>=2.27->gTTS) (1.26.16)\n",
            "Requirement already satisfied: certifi>=2017.4.17 in /usr/local/lib/python3.10/dist-packages (from requests<3,>=2.27->gTTS) (2023.5.7)\n",
            "Requirement already satisfied: charset-normalizer~=2.0.0 in /usr/local/lib/python3.10/dist-packages (from requests<3,>=2.27->gTTS) (2.0.12)\n",
            "Requirement already satisfied: idna<4,>=2.5 in /usr/local/lib/python3.10/dist-packages (from requests<3,>=2.27->gTTS) (3.4)\n",
            "Installing collected packages: gTTS\n",
            "Successfully installed gTTS-2.3.2\n"
          ]
        }
      ]
    },
    {
      "cell_type": "code",
      "source": [
        "# @title Célula Oculta\n",
        "!pip install pydub"
      ],
      "metadata": {
        "colab": {
          "base_uri": "https://localhost:8080/"
        },
        "id": "19lY91B_Ggu7",
        "outputId": "2dec1a62-e798-4ceb-a17a-9a67db42b1f0"
      },
      "execution_count": null,
      "outputs": [
        {
          "output_type": "stream",
          "name": "stdout",
          "text": [
            "Collecting pydub\n",
            "  Downloading pydub-0.25.1-py2.py3-none-any.whl (32 kB)\n",
            "Installing collected packages: pydub\n",
            "Successfully installed pydub-0.25.1\n"
          ]
        }
      ]
    },
    {
      "cell_type": "code",
      "source": [
        "# @title Célula Oculta\n",
        "!pip install SpeechRecognition"
      ],
      "metadata": {
        "colab": {
          "base_uri": "https://localhost:8080/"
        },
        "id": "MH-Au9c1GmdH",
        "outputId": "d31e1115-eec7-4524-f290-95eca2f03369"
      },
      "execution_count": null,
      "outputs": [
        {
          "output_type": "stream",
          "name": "stdout",
          "text": [
            "Collecting SpeechRecognition\n",
            "  Downloading SpeechRecognition-3.10.0-py2.py3-none-any.whl (32.8 MB)\n",
            "\u001b[2K     \u001b[90m━━━━━━━━━━━━━━━━━━━━━━━━━━━━━━━━━━━━━━━━\u001b[0m \u001b[32m32.8/32.8 MB\u001b[0m \u001b[31m42.4 MB/s\u001b[0m eta \u001b[36m0:00:00\u001b[0m\n",
            "\u001b[?25hRequirement already satisfied: requests>=2.26.0 in /usr/local/lib/python3.10/dist-packages (from SpeechRecognition) (2.27.1)\n",
            "Requirement already satisfied: urllib3<1.27,>=1.21.1 in /usr/local/lib/python3.10/dist-packages (from requests>=2.26.0->SpeechRecognition) (1.26.16)\n",
            "Requirement already satisfied: certifi>=2017.4.17 in /usr/local/lib/python3.10/dist-packages (from requests>=2.26.0->SpeechRecognition) (2023.5.7)\n",
            "Requirement already satisfied: charset-normalizer~=2.0.0 in /usr/local/lib/python3.10/dist-packages (from requests>=2.26.0->SpeechRecognition) (2.0.12)\n",
            "Requirement already satisfied: idna<4,>=2.5 in /usr/local/lib/python3.10/dist-packages (from requests>=2.26.0->SpeechRecognition) (3.4)\n",
            "Installing collected packages: SpeechRecognition\n",
            "Successfully installed SpeechRecognition-3.10.0\n"
          ]
        }
      ]
    },
    {
      "cell_type": "code",
      "source": [
        "# @title Célula Oculta\n",
        "!pip install ffmpeg-python"
      ],
      "metadata": {
        "colab": {
          "base_uri": "https://localhost:8080/"
        },
        "id": "jAM5zPgiGrmE",
        "outputId": "a17c8fda-27eb-478e-cb10-60dc159ea0ad",
        "cellView": "form"
      },
      "execution_count": null,
      "outputs": [
        {
          "output_type": "stream",
          "name": "stdout",
          "text": [
            "Collecting ffmpeg-python\n",
            "  Downloading ffmpeg_python-0.2.0-py3-none-any.whl (25 kB)\n",
            "Requirement already satisfied: future in /usr/local/lib/python3.10/dist-packages (from ffmpeg-python) (0.18.3)\n",
            "Installing collected packages: ffmpeg-python\n",
            "Successfully installed ffmpeg-python-0.2.0\n"
          ]
        }
      ]
    },
    {
      "cell_type": "code",
      "source": [
        "# @title Célula Oculta\n",
        "!apt-get -qq install -y portaudio19-dev"
      ],
      "metadata": {
        "colab": {
          "base_uri": "https://localhost:8080/"
        },
        "id": "gmfko98qGwRe",
        "outputId": "d456fac6-084c-4ad7-93d4-4d1f8fe1829a",
        "cellView": "form"
      },
      "execution_count": null,
      "outputs": [
        {
          "output_type": "stream",
          "name": "stdout",
          "text": [
            "Selecting previously unselected package libportaudio2:amd64.\n",
            "(Reading database ... 120509 files and directories currently installed.)\n",
            "Preparing to unpack .../libportaudio2_19.6.0-1.1_amd64.deb ...\n",
            "Unpacking libportaudio2:amd64 (19.6.0-1.1) ...\n",
            "Selecting previously unselected package libportaudiocpp0:amd64.\n",
            "Preparing to unpack .../libportaudiocpp0_19.6.0-1.1_amd64.deb ...\n",
            "Unpacking libportaudiocpp0:amd64 (19.6.0-1.1) ...\n",
            "Selecting previously unselected package portaudio19-dev:amd64.\n",
            "Preparing to unpack .../portaudio19-dev_19.6.0-1.1_amd64.deb ...\n",
            "Unpacking portaudio19-dev:amd64 (19.6.0-1.1) ...\n",
            "Setting up libportaudio2:amd64 (19.6.0-1.1) ...\n",
            "Setting up libportaudiocpp0:amd64 (19.6.0-1.1) ...\n",
            "Setting up portaudio19-dev:amd64 (19.6.0-1.1) ...\n",
            "Processing triggers for libc-bin (2.35-0ubuntu3.1) ...\n"
          ]
        }
      ]
    },
    {
      "cell_type": "code",
      "source": [
        "# @title Célula Oculta\n",
        "!pip install pyaudio"
      ],
      "metadata": {
        "colab": {
          "base_uri": "https://localhost:8080/"
        },
        "id": "APGm2VTPHfb5",
        "outputId": "78393009-ee45-4acc-88dc-8085620a4510",
        "cellView": "form"
      },
      "execution_count": null,
      "outputs": [
        {
          "output_type": "stream",
          "name": "stdout",
          "text": [
            "Collecting pyaudio\n",
            "  Using cached PyAudio-0.2.13.tar.gz (46 kB)\n",
            "  Installing build dependencies ... \u001b[?25l\u001b[?25hdone\n",
            "  Getting requirements to build wheel ... \u001b[?25l\u001b[?25hdone\n",
            "  Preparing metadata (pyproject.toml) ... \u001b[?25l\u001b[?25hdone\n",
            "Building wheels for collected packages: pyaudio\n",
            "  Building wheel for pyaudio (pyproject.toml) ... \u001b[?25l\u001b[?25hdone\n",
            "  Created wheel for pyaudio: filename=PyAudio-0.2.13-cp310-cp310-linux_x86_64.whl size=63870 sha256=02caf4ae0996d03f67defd2c983af238d33c1c83427f2c47d433f91ae797b12e\n",
            "  Stored in directory: /root/.cache/pip/wheels/14/f1/c2/d102b4765a82c5a7bb273998dca7e4a53fc58e9a1a516fda81\n",
            "Successfully built pyaudio\n",
            "Installing collected packages: pyaudio\n",
            "Successfully installed pyaudio-0.2.13\n"
          ]
        }
      ]
    },
    {
      "cell_type": "code",
      "source": [
        "# @title Célula Oculta\n",
        "!pip install nltk"
      ],
      "metadata": {
        "colab": {
          "base_uri": "https://localhost:8080/"
        },
        "cellView": "form",
        "id": "xR9owhUUkL9H",
        "outputId": "50e9ee40-6c53-4c5d-c31a-d0ed142cd18a"
      },
      "execution_count": 260,
      "outputs": [
        {
          "output_type": "stream",
          "name": "stdout",
          "text": [
            "Requirement already satisfied: nltk in /usr/local/lib/python3.10/dist-packages (3.8.1)\n",
            "Requirement already satisfied: click in /usr/local/lib/python3.10/dist-packages (from nltk) (8.1.4)\n",
            "Requirement already satisfied: joblib in /usr/local/lib/python3.10/dist-packages (from nltk) (1.3.1)\n",
            "Requirement already satisfied: regex>=2021.8.3 in /usr/local/lib/python3.10/dist-packages (from nltk) (2022.10.31)\n",
            "Requirement already satisfied: tqdm in /usr/local/lib/python3.10/dist-packages (from nltk) (4.65.0)\n"
          ]
        }
      ]
    },
    {
      "cell_type": "code",
      "execution_count": 235,
      "metadata": {
        "id": "eK42l1e0_sGZ",
        "colab": {
          "base_uri": "https://localhost:8080/"
        },
        "outputId": "2c1da148-57ae-4131-da2c-b3a1255bcb3d"
      },
      "outputs": [
        {
          "output_type": "stream",
          "name": "stderr",
          "text": [
            "[nltk_data] Downloading package punkt to /root/nltk_data...\n",
            "[nltk_data]   Package punkt is already up-to-date!\n",
            "[nltk_data] Downloading package averaged_perceptron_tagger to\n",
            "[nltk_data]     /root/nltk_data...\n",
            "[nltk_data]   Package averaged_perceptron_tagger is already up-to-\n",
            "[nltk_data]       date!\n"
          ]
        }
      ],
      "source": [
        "from gtts import gTTS\n",
        "from IPython.display import Audio, display, Javascript\n",
        "from pydub import AudioSegment\n",
        "from google.colab import output\n",
        "import os\n",
        "import logging\n",
        "from pydub import AudioSegment\n",
        "from pydub.playback import play\n",
        "import speech_recognition as sr\n",
        "from base64 import b64decode\n",
        "from googletrans import Translator\n",
        "import nltk\n",
        "\n",
        "# Baixe a lista de pontuações do nltk\n",
        "nltk.download('punkt')\n",
        "nltk.download('averaged_perceptron_tagger')\n",
        "\n",
        "# Configuração do logger para evitar exibir o aviso RuntimeWarning\n",
        "logging.getLogger(\"pydub.converter\").setLevel(logging.ERROR)"
      ]
    },
    {
      "cell_type": "code",
      "source": [
        "# @title Célula Oculta\n",
        "\n",
        "# Código JavaScript para gravar áudio do usuário usando a \"MediaStream Recording API\"\n",
        "RECORD = \"\"\"\n",
        "const sleep  = time => new Promise(resolve => setTimeout(resolve, time))\n",
        "const b2text = blob => new Promise(resolve => {\n",
        "  const reader = new FileReader()\n",
        "  reader.onloadend = e => resolve(e.srcElement.result)\n",
        "  reader.readAsDataURL(blob)\n",
        "})\n",
        "var record = time => new Promise(async resolve => {\n",
        "  stream = await navigator.mediaDevices.getUserMedia({ audio: true })\n",
        "  recorder = new MediaRecorder(stream)\n",
        "  chunks = []\n",
        "  recorder.ondataavailable = e => chunks.push(e.data)\n",
        "  recorder.start()\n",
        "  await sleep(time)\n",
        "  recorder.onstop = async ()=>{\n",
        "    blob = new Blob(chunks)\n",
        "    text = await b2text(blob)\n",
        "    resolve(text)\n",
        "  }\n",
        "  recorder.stop()\n",
        "})\n",
        "\"\"\"\n",
        "# Função microfone\n",
        "def record(sec=5):\n",
        "  # Executa o código JavaScript para gravar o áudio\n",
        "  display(Javascript(RECORD))\n",
        "  # Recebe o áudio gravado como resultado do JavaScript\n",
        "  js_result = output.eval_js('record(%s)' % (sec * 1000))\n",
        "   # Decodifica o áudio em base64\n",
        "  audio = b64decode(js_result.split(',')[1])\n",
        "  # Salva o áudio em um arquivo\n",
        "  file_name = 'curs0.wav'\n",
        "  with open(file_name, 'wb') as f:\n",
        "    f.write(audio)\n",
        "  # Retorna o caminho do arquivo de áudio\n",
        "  return f'/content/{file_name}'\n",
        "\n",
        "\n",
        "# Função para adicionar a pontuação e sinais corretos ao texto traduzido\n",
        "def add_punctuation(text):\n",
        "    # Tokenizar o texto em palavras\n",
        "    words = nltk.word_tokenize(text)\n",
        "\n",
        "    # Obter as tags de cada palavra para identificar a pontuação\n",
        "    word_tags = nltk.pos_tag(words)\n",
        "\n",
        "    # Dicionário para mapear a tag da pontuação para a pontuação correspondente\n",
        "    punctuation_map = {\n",
        "        \"SYM\": \"\",   # Símbolo\n",
        "        \"``\": \"\\\"\",  # Aspas duplas esquerdas\n",
        "        \"''\": \"\\\"\",  # Aspas duplas direitas\n",
        "        \"(\": \"(\",    # Parênteses esquerdo\n",
        "        \")\": \")\",    # Parênteses direito\n",
        "        \",\": \",\",    # Vírgula\n",
        "        \".\": \".\",    # Ponto final\n",
        "        \":\": \":\",    # Dois pontos\n",
        "        \";\": \";\",    # Ponto e vírgula\n",
        "        \"?\": \"?\",    # Pergunta\n",
        "        \"!\": \"!\"     # Exclamação\n",
        "    }\n",
        "\n",
        "    # Construir o texto com a pontuação correta\n",
        "    punctuated_text = \"\"\n",
        "    for word, tag in word_tags:\n",
        "        if tag in punctuation_map:\n",
        "            punctuated_text += punctuation_map[tag]\n",
        "        punctuated_text += word + \" \"\n",
        "\n",
        "    return punctuated_text\n",
        "\n",
        "# Função para transcrever o áudio gravado em português e traduzir para inglês\n",
        "def transcrever_e_traduzir(audio_file):\n",
        "    recognizer = sr.Recognizer()\n",
        "    translator = Translator()\n",
        "\n",
        "    with sr.AudioFile(audio_file) as source:\n",
        "        audio_data = recognizer.record(source)\n",
        "\n",
        "    try:\n",
        "        texto_portugues = recognizer.recognize_google(audio_data, language=\"pt-BR\")\n",
        "        print(\"Texto em português reconhecido:\", texto_portugues)\n",
        "\n",
        "        # Traduzir o texto para inglês\n",
        "        texto_ingles = translator.translate(texto_portugues, src=\"pt\", dest=\"en\")\n",
        "        print(\"Texto traduzido para inglês:\", texto_ingles.text)\n",
        "\n",
        "\n",
        "    except sr.UnknownValueError:\n",
        "        print(\"Não foi possível reconhecer o áudio. Por favor, tente novamente.\")\n",
        "        return None\n",
        "\n"
      ],
      "metadata": {
        "id": "De4wHRt2FhCp"
      },
      "execution_count": 259,
      "outputs": []
    },
    {
      "cell_type": "code",
      "source": [
        "# Variável texto inicialmente vazia\n",
        "texto = \"\"\n",
        "\n",
        "# Função para solicitar a opção ao usuário e retornar um número válido\n",
        "def obter_opcao_valida():\n",
        "    while True:\n",
        "        print(\"Selecione uma opção:\")\n",
        "        print(\"0) Digitar uma frase\")\n",
        "        print(\"1) Frase 1: Olá, como vai? Como faço para saber se realizei a atividade certa?\")\n",
        "        print(\"2) Frase 2: Descubra como será o tempo e o clima em Recife.\")\n",
        "        print(\"3) Frase 3: Vamos nos divertir muito com essa biblioteca de áudio.\")\n",
        "        print(\"4) Frase 4: Python é uma linguagem de programação de alto nível.\")\n",
        "        print(\"5) Frase 5: A aprendizagem é um processo contínuo que ocorre durante toda a vida do indivíduo.\")\n",
        "        print(\"6) Estou lhe ouvindo, pode falar.\")\n",
        "        opcao = input(\"Opção: \")\n",
        "        if opcao.isdigit() and 0 <= int(opcao) <= 6:\n",
        "            return int(opcao)\n",
        "        print(\"Número inválido. Por favor, digite um número de 0 a 6.\")\n",
        "\n",
        "# Obter opção válida\n",
        "opcao = obter_opcao_valida()\n",
        "\n",
        "# Defina a variável texto de acordo com a opção escolhida\n",
        "if opcao == 0:\n",
        "    texto = input(\"Digite a frase que deseja sintetizar em áudio: \")\n",
        "elif opcao in range(1, 6):\n",
        "    frases_portugues = [\n",
        "        \"Olá, como vai? Como faço para saber se realizei a atividade certa?\",\n",
        "        \"Descubra como será o tempo e o clima em Recife.\",\n",
        "        \"Vamos nos divertir muito com essa biblioteca de áudio.\",\n",
        "        \"Python é uma linguagem de programação de alto nível.\",\n",
        "        \"A aprendizagem é um processo contínuo que ocorre durante toda a vida do indivíduo.\"\n",
        "    ]\n",
        "    texto = frases_portugues[opcao - 1]\n",
        "elif opcao == 6:\n",
        "    print(\"Estou lhe ouvindo. Fale por alguns segundos...\")\n",
        "    # Grava o áudio do usuário por alguns segundos\n",
        "    record_file = record()\n",
        "    # Exibe o caminho do arquivo de áudio gravado\n",
        "    print(\"Caminho do arquivo de áudio gravado:\", audio_file_path)\n",
        "    # Se ocorreu algum erro na gravação do áudio, encerra o programa\n",
        "    if not record_file:\n",
        "        exit()\n",
        "\n",
        "    # Exibe o áudio gravado\n",
        "    display(Audio(record_file, autoplay=False))\n"
      ],
      "metadata": {
        "colab": {
          "base_uri": "https://localhost:8080/"
        },
        "id": "XP90GLpqZSK_",
        "outputId": "c333d8cf-eea9-456f-a819-e12f7186c0c0"
      },
      "execution_count": 248,
      "outputs": [
        {
          "name": "stdout",
          "output_type": "stream",
          "text": [
            "Selecione uma opção:\n",
            "0) Digitar uma frase\n",
            "1) Frase 1: Olá, como vai? Como faço para saber se realizei a atividade certa?\n",
            "2) Frase 2: Descubra como será o tempo e o clima em Recife.\n",
            "3) Frase 3: Vamos nos divertir muito com essa biblioteca de áudio.\n",
            "4) Frase 4: Python é uma linguagem de programação de alto nível.\n",
            "5) Frase 5: A aprendizagem é um processo contínuo que ocorre durante toda a vida do indivíduo.\n",
            "6) Estou lhe ouvindo, pode falar.\n",
            "Opção: 5\n"
          ]
        }
      ]
    },
    {
      "cell_type": "code",
      "source": [
        "# Salve o áudio gerado como curso.mp3\n",
        "tts = gTTS(text=texto, lang='pt')\n",
        "tts.save(\"curs0.mp3\")"
      ],
      "metadata": {
        "id": "gxFk12lamAJ6"
      },
      "execution_count": 249,
      "outputs": []
    },
    {
      "cell_type": "code",
      "source": [
        "# Utilize a função Audio para tocar o arquivo mp3 salvo\n",
        "Audio(\"curs0.mp3\", autoplay=True)"
      ],
      "metadata": {
        "colab": {
          "base_uri": "https://localhost:8080/",
          "height": 76
        },
        "id": "BE4-yqk6L7CT",
        "outputId": "120cd7c9-68aa-4173-dce7-63a9f9f62721"
      },
      "execution_count": 250,
      "outputs": [
        {
          "output_type": "execute_result",
          "data": {
            "text/plain": [
              "<IPython.lib.display.Audio object>"
            ],
            "text/html": [
              "\n",
              "                <audio  controls=\"controls\" autoplay=\"autoplay\">\n",
              "                    <source src=\"data:audio/mpeg;base64,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\" type=\"audio/mpeg\" />\n",
              "                    Your browser does not support the audio element.\n",
              "                </audio>\n",
              "              "
            ]
          },
          "metadata": {},
          "execution_count": 250
        }
      ]
    },
    {
      "cell_type": "code",
      "source": [
        "# Converte o arquivo gravado (MP3) para WAV\n",
        "converted_wav_file = \"curs0.wav\"\n",
        "convert_mp3_to_wav(record_file, converted_wav_file)"
      ],
      "metadata": {
        "id": "VSOlgdAaj2Gl"
      },
      "execution_count": 251,
      "outputs": []
    },
    {
      "cell_type": "code",
      "source": [
        "    # Define a variável texto como a transcrição do áudio gravado\n",
        "    recognizer = sr.Recognizer()\n",
        "    with sr.AudioFile(converted_wav_file) as source:\n",
        "        audio_data = recognizer.record(source)\n",
        "\n",
        "    try:\n",
        "        texto = recognizer.recognize_google(audio_data, language=\"pt-BR\")\n",
        "        print(\"Texto reconhecido:\", texto)\n",
        "    except sr.UnknownValueError:\n",
        "        print(\"Não foi possível reconhecer o áudio. Por favor, tente novamente.\")\n",
        "        exit()"
      ],
      "metadata": {
        "id": "2N-uz6SQj2BM",
        "colab": {
          "base_uri": "https://localhost:8080/"
        },
        "outputId": "e4cd190e-3d00-4bab-a3df-02c9ce34638a"
      },
      "execution_count": 252,
      "outputs": [
        {
          "output_type": "stream",
          "name": "stdout",
          "text": [
            "Texto reconhecido: aprendizagem é um processo contínuo que ocorre durante toda a vida do indivíduo\n"
          ]
        }
      ]
    },
    {
      "cell_type": "code",
      "source": [
        "# Chamar a função para transcrever e traduzir o áudio\n",
        "transcrever_e_traduzir(converted_wav_file)"
      ],
      "metadata": {
        "id": "g4p6QK0paMCe",
        "colab": {
          "base_uri": "https://localhost:8080/"
        },
        "outputId": "676a7c8b-3c04-4a25-e351-1c93d2481770"
      },
      "execution_count": 255,
      "outputs": [
        {
          "output_type": "stream",
          "name": "stdout",
          "text": [
            "Texto em português reconhecido: aprendizagem é um processo contínuo que ocorre durante toda a vida do indivíduo\n",
            "Texto traduzido para inglês: learning is a continuous process that occurs throughout the individual's life\n"
          ]
        }
      ]
    },
    {
      "cell_type": "code",
      "source": [],
      "metadata": {
        "id": "OJQNTP1JaL6j"
      },
      "execution_count": null,
      "outputs": []
    }
  ]
}